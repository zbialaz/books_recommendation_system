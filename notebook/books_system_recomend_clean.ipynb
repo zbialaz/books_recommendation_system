{
 "cells": [
  {
   "cell_type": "markdown",
   "id": "69692fa6",
   "metadata": {},
   "source": [
    "# Book Recommendation System - Apriori Algorithm\n",
    "---\n",
    "\n",
    "## System Structure:\n",
    "1. **Library Import**\n",
    "2. **Data Loading**\n",
    "3. **Data Preparation**\n",
    "4. **Apriori Algorithm Application**\n",
    "5. **Auxiliary Functions**\n",
    "6. **Recommendation System**\n",
    "7. **User Interface**\n",
    "8. **Interactive System**\n",
    "\n",
    "## System Features:\n",
    "-  **Simple and Interactive**: Just type the book name\n",
    "-  **5 Recommendations**: Always returns 5 suggestions\n",
    "-  **Complete Titles**: Displays full book names\n",
    "-  **Smart Search**: Finds books even with partial names\n",
    "-  **Apriori Algorithm**: Based on purchase associations\n",
    "\n",
    "---"
   ]
  },
  {
   "cell_type": "markdown",
   "id": "56726091",
   "metadata": {},
   "source": [
    "# 0.0 - Library Import"
   ]
  },
  {
   "cell_type": "code",
   "execution_count": 51,
   "id": "088ea6eb",
   "metadata": {},
   "outputs": [
    {
     "name": "stdout",
     "output_type": "stream",
     "text": [
      "✅ Libraries imported successfully!\n"
     ]
    }
   ],
   "source": [
    "import pandas as pd\n",
    "import numpy as np\n",
    "import warnings\n",
    "import os\n",
    "from collections import Counter\n",
    "from kaggle.api.kaggle_api_extended import KaggleApi\n",
    "from apyori import apriori\n",
    "\n",
    "warnings.filterwarnings('ignore')\n",
    "print(\"✅ Libraries imported successfully!\")"
   ]
  },
  {
   "cell_type": "markdown",
   "id": "5f7fef49",
   "metadata": {},
   "source": [
    "# 1.0 - Data Loading"
   ]
  },
  {
   "cell_type": "code",
   "execution_count": 52,
   "id": "8e8487c6",
   "metadata": {},
   "outputs": [
    {
     "name": "stdout",
     "output_type": "stream",
     "text": [
      "Dataset URL: https://www.kaggle.com/datasets/arashnic/book-recommendation-dataset\n",
      "📚 Books: 271,360 | ⭐ Ratings: 1,149,780 | 👥 Users: 278,858\n",
      "📚 Books: 271,360 | ⭐ Ratings: 1,149,780 | 👥 Users: 278,858\n"
     ]
    }
   ],
   "source": [
    "# Download dataset from Kaggle\n",
    "api = KaggleApi()\n",
    "api.authenticate()\n",
    "os.makedirs(\"../dataset\", exist_ok=True)\n",
    "api.dataset_download_files('arashnic/book-recommendation-dataset', path='../dataset', unzip=True)\n",
    "\n",
    "# Load data\n",
    "df_books = pd.read_csv('../dataset/Books.csv')\n",
    "df_ratings = pd.read_csv('../dataset/Ratings.csv')\n",
    "df_users = pd.read_csv('../dataset/Users.csv')\n",
    "\n",
    "print(f\"📚 Books: {df_books.shape[0]:,} | ⭐ Ratings: {df_ratings.shape[0]:,} | 👥 Users: {df_users.shape[0]:,}\")"
   ]
  },
  {
   "cell_type": "markdown",
   "id": "8cccf162",
   "metadata": {},
   "source": [
    "# 2.0 - Data Preparation"
   ]
  },
  {
   "cell_type": "code",
   "execution_count": 53,
   "id": "89816f10",
   "metadata": {},
   "outputs": [
    {
     "name": "stdout",
     "output_type": "stream",
     "text": [
      "📦 Transactions: 17,491 | 📚 Unique books: 129,511\n"
     ]
    }
   ],
   "source": [
    "# Prepare data for Apriori\n",
    "df_ratings_high = df_ratings[df_ratings['Book-Rating'] >= 7].copy()\n",
    "user_counts = df_ratings_high['User-ID'].value_counts()\n",
    "active_users = user_counts[user_counts >= 3].index\n",
    "df_apriori = df_ratings_high[df_ratings_high['User-ID'].isin(active_users)].copy()\n",
    "\n",
    "# Create transactions\n",
    "def create_transactions(df):\n",
    "    \"\"\"Creates transactions for the Apriori algorithm\"\"\"\n",
    "    transactions = []\n",
    "    for user_id in df['User-ID'].unique():\n",
    "        user_books = df[df['User-ID'] == user_id]['ISBN'].tolist()\n",
    "        if len(user_books) >= 2:\n",
    "            transactions.append(user_books)\n",
    "    return transactions\n",
    "\n",
    "transactions = create_transactions(df_apriori)\n",
    "all_books = [item for sublist in transactions for item in sublist]\n",
    "book_freq = Counter(all_books)\n",
    "\n",
    "print(f\"📦 Transactions: {len(transactions):,} | 📚 Unique books: {len(book_freq):,}\")"
   ]
  },
  {
   "cell_type": "markdown",
   "id": "c50d4f2e",
   "metadata": {},
   "source": [
    "# 3.0 - Apriori Algorithm Application"
   ]
  },
  {
   "cell_type": "code",
   "execution_count": 54,
   "id": "1ce9c63f",
   "metadata": {},
   "outputs": [
    {
     "name": "stdout",
     "output_type": "stream",
     "text": [
      "📋 Apriori rules: 143\n"
     ]
    }
   ],
   "source": [
    "# Apply Apriori algorithm\n",
    "association_rules = apriori(\n",
    "    transactions=transactions,\n",
    "    min_support=0.001,\n",
    "    min_confidence=0.1,\n",
    "    min_lift=1.0,\n",
    "    min_length=2,\n",
    "    max_length=2\n",
    ")\n",
    "\n",
    "rules_list = list(association_rules)\n",
    "print(f\"📋 Apriori rules: {len(rules_list)}\")\n",
    "\n",
    "# If no rules found, use co-occurrence\n",
    "if len(rules_list) == 0:\n",
    "    popular_books = book_freq.most_common(15)\n",
    "    rules_list = []\n",
    "    \n",
    "    for i, (book1, count1) in enumerate(popular_books[:10]):\n",
    "        for j, (book2, count2) in enumerate(popular_books[:10]):\n",
    "            if i != j:\n",
    "                co_occurrence = sum(1 for t in transactions if book1 in t and book2 in t)\n",
    "                if co_occurrence > 1:\n",
    "                    support = co_occurrence / len(transactions)\n",
    "                    confidence = co_occurrence / count1\n",
    "                    lift = confidence / (count2 / len(transactions))\n",
    "                    \n",
    "                    rules_list.append({\n",
    "                        'antecedent': book1,\n",
    "                        'consequent': book2,\n",
    "                        'support': support,\n",
    "                        'confidence': confidence,\n",
    "                        'lift': lift\n",
    "                    })\n",
    "    \n",
    "    rules_list.sort(key=lambda x: x['lift'], reverse=True)\n",
    "    print(f\"📋 Co-occurrence rules: {len(rules_list)}\")"
   ]
  },
  {
   "cell_type": "markdown",
   "id": "66d53061",
   "metadata": {},
   "source": [
    "# 4.0 - Auxiliary Functions"
   ]
  },
  {
   "cell_type": "code",
   "execution_count": 55,
   "id": "10c60dde",
   "metadata": {},
   "outputs": [
    {
     "name": "stdout",
     "output_type": "stream",
     "text": [
      "✅ Auxiliary functions created\n"
     ]
    }
   ],
   "source": [
    "# Function to get book information\n",
    "def get_book_info(book_id):\n",
    "    \"\"\"Gets detailed book information by ISBN\"\"\"\n",
    "    try:\n",
    "        book_data = df_books[df_books['ISBN'] == book_id]\n",
    "        if len(book_data) > 0:\n",
    "            book = book_data.iloc[0]\n",
    "            return {\n",
    "                'title': book['Book-Title'],\n",
    "                'author': book['Book-Author'],\n",
    "                'year': book['Year-Of-Publication']\n",
    "            }\n",
    "    except:\n",
    "        pass\n",
    "    return {'title': f'Book {book_id}', 'author': 'Unknown author', 'year': 'N/A'}\n",
    "\n",
    "# Function to search books\n",
    "def search_books_by_title(title_search, max_results=10):\n",
    "    \"\"\"Searches books by title\"\"\"\n",
    "    title_search = title_search.lower()\n",
    "    books_found = df_books[\n",
    "        df_books['Book-Title'].str.lower().str.contains(title_search, na=False)\n",
    "    ]\n",
    "    \n",
    "    if books_found.empty:\n",
    "        return []\n",
    "    \n",
    "    results = []\n",
    "    for idx, book in books_found.head(max_results).iterrows():\n",
    "        results.append({\n",
    "            'isbn': book['ISBN'],\n",
    "            'title': book['Book-Title'],\n",
    "            'author': book['Book-Author'],\n",
    "            'year': book['Year-Of-Publication']\n",
    "        })\n",
    "    return results\n",
    "\n",
    "print(\"✅ Auxiliary functions created\")"
   ]
  },
  {
   "cell_type": "markdown",
   "id": "641251d4",
   "metadata": {},
   "source": [
    "# 5.0 - Main Recommendation System"
   ]
  },
  {
   "cell_type": "code",
   "execution_count": 56,
   "id": "e6d50329",
   "metadata": {},
   "outputs": [
    {
     "name": "stdout",
     "output_type": "stream",
     "text": [
      "✅ Recommendation system created\n"
     ]
    }
   ],
   "source": [
    "def recommend_books(user_books, n_recommendations=5):\n",
    "    \"\"\"Main recommendation system based on Apriori algorithm\"\"\"\n",
    "    recommendations = {}\n",
    "    \n",
    "    # Try to use Apriori rules first\n",
    "    if len(rules_list) > 0 and hasattr(rules_list[0], 'ordered_statistics'):\n",
    "        for user_book in user_books:\n",
    "            for rule in rules_list:\n",
    "                antecedent = list(rule.ordered_statistics[0].items_base)\n",
    "                consequent = list(rule.ordered_statistics[0].items_add)\n",
    "                \n",
    "                if user_book in antecedent:\n",
    "                    for rec_book in consequent:\n",
    "                        if rec_book not in user_books:\n",
    "                            score = (rule.ordered_statistics[0].confidence * \n",
    "                                   rule.ordered_statistics[0].lift)\n",
    "                            recommendations[rec_book] = recommendations.get(rec_book, 0) + score\n",
    "    \n",
    "    # Use co-occurrence rules\n",
    "    elif len(rules_list) > 0 and isinstance(rules_list[0], dict):\n",
    "        for user_book in user_books:\n",
    "            for rule in rules_list:\n",
    "                if rule['antecedent'] == user_book:\n",
    "                    rec_book = rule['consequent']\n",
    "                    if rec_book not in user_books:\n",
    "                        score = rule['confidence'] * rule['lift']\n",
    "                        recommendations[rec_book] = recommendations.get(rec_book, 0) + score\n",
    "    \n",
    "    # Fallback by author\n",
    "    if not recommendations:\n",
    "        user_authors = set()\n",
    "        for user_book in user_books:\n",
    "            book_info = get_book_info(user_book)\n",
    "            if book_info['author'] != 'Unknown author':\n",
    "                user_authors.add(book_info['author'])\n",
    "        \n",
    "        for author in user_authors:\n",
    "            author_books = df_books[df_books['Book-Author'] == author]['ISBN'].tolist()\n",
    "            for isbn in author_books:\n",
    "                if isbn not in user_books and isbn in book_freq:\n",
    "                    score = book_freq[isbn] * 0.5\n",
    "                    recommendations[isbn] = recommendations.get(isbn, 0) + score\n",
    "    \n",
    "    # Fallback by popularity\n",
    "    if not recommendations:\n",
    "        popular_books = book_freq.most_common(20)\n",
    "        for isbn, count in popular_books:\n",
    "            if isbn not in user_books:\n",
    "                recommendations[isbn] = count * 0.1\n",
    "                if len(recommendations) >= n_recommendations:\n",
    "                    break\n",
    "    \n",
    "    # Sort and format result\n",
    "    sorted_recs = sorted(recommendations.items(), key=lambda x: x[1], reverse=True)\n",
    "    \n",
    "    result = []\n",
    "    for isbn, score in sorted_recs[:n_recommendations]:\n",
    "        book_info = get_book_info(isbn)\n",
    "        result.append({\n",
    "            'isbn': isbn,\n",
    "            'title': book_info['title'],\n",
    "            'author': book_info['author'],\n",
    "            'score': score\n",
    "        })\n",
    "    \n",
    "    return result\n",
    "\n",
    "print(\"✅ Recommendation system created\")"
   ]
  },
  {
   "cell_type": "markdown",
   "id": "826998ee",
   "metadata": {},
   "source": [
    "# 6.0 - User Interface"
   ]
  },
  {
   "cell_type": "code",
   "execution_count": 57,
   "id": "9a27ac11",
   "metadata": {},
   "outputs": [
    {
     "name": "stdout",
     "output_type": "stream",
     "text": [
      "✅ Interface functions created\n"
     ]
    }
   ],
   "source": [
    "# Function to display recommendations\n",
    "def display_recommendations(book_input, recommendations):\n",
    "    \"\"\"Displays formatted recommendations\"\"\"\n",
    "    print(f\"\\n📚 RECOMMENDATIONS FOR: {book_input['title']}\")\n",
    "    print(f\"👤 Author: {book_input['author']}\")\n",
    "    print(\"=\" * 60)\n",
    "    \n",
    "    if not recommendations:\n",
    "        print(\"❌ No recommendations found\")\n",
    "        return\n",
    "    \n",
    "    for i, rec in enumerate(recommendations, 1):\n",
    "        print(f\"{i}. {rec['title'][:50]}...\")\n",
    "        print(f\"   👤 {rec['author'][:30]}...\")\n",
    "        print(f\"   📊 Score: {rec['score']:.2f}\\n\")\n",
    "\n",
    "# Simplified interactive system\n",
    "def search_and_recommend(title_search, n_recommendations=5):\n",
    "    \"\"\"Main function to search and recommend books\"\"\"\n",
    "    print(f\"🔍 Searching for '{title_search}'...\")\n",
    "    \n",
    "    # Search books\n",
    "    books_found = search_books_by_title(title_search, 5)\n",
    "    \n",
    "    if not books_found:\n",
    "        print(f\"❌ No books found with '{title_search}'\")\n",
    "        return\n",
    "    \n",
    "    # Use the first book found\n",
    "    selected_book = books_found[0]\n",
    "    print(f\"✅ Found: {selected_book['title']}\")\n",
    "    \n",
    "    # Generate recommendations\n",
    "    recommendations = recommend_books([selected_book['isbn']], n_recommendations)\n",
    "    \n",
    "    # Display result\n",
    "    display_recommendations(selected_book, recommendations)\n",
    "    \n",
    "    return recommendations\n",
    "\n",
    "print(\"✅ Interface functions created\")"
   ]
  },
  {
   "cell_type": "markdown",
   "id": "7fedd01e",
   "metadata": {},
   "source": [
    "# 7.0 - Interactive System"
   ]
  },
  {
   "cell_type": "code",
   "execution_count": 58,
   "id": "77270ace",
   "metadata": {},
   "outputs": [
    {
     "name": "stdout",
     "output_type": "stream",
     "text": [
      "🚀 To use the interactive system, run: interactive_system()\n",
      "💡 Or run the cell below to start automatically\n"
     ]
    }
   ],
   "source": [
    "def interactive_system():\n",
    "    \"\"\"Interactive system where you type the book name and get recommendations\"\"\"\n",
    "    print(\"=\"*80)\n",
    "    print(\"🎉 INTERACTIVE BOOK RECOMMENDATION SYSTEM\")\n",
    "    print(\"=\"*80)\n",
    "    print(\"💡 Type the book name to get 5 recommendations\")\n",
    "    print(\"💡 Type 'exit' to close the system\")\n",
    "    print(\"=\"*80)\n",
    "    \n",
    "    while True:\n",
    "        # Request book name\n",
    "        title_search = input(\"\\n🔍 Enter book name: \").strip()\n",
    "        \n",
    "        # Check if wants to exit\n",
    "        if title_search.lower() in ['exit', 'quit', 'sair', '']:\n",
    "            print(\"\\n👋 Thank you for using the recommendation system!\")\n",
    "            print(\"🎯 We hope we helped you discover new books!\")\n",
    "            break\n",
    "        \n",
    "        print(f\"\\n🔍 Searching for '{title_search}'...\")\n",
    "        \n",
    "        # Search books\n",
    "        books_found = search_books_by_title(title_search, max_results=1)\n",
    "        \n",
    "        if not books_found:\n",
    "            print(f\"❌ No books found with '{title_search}'\")\n",
    "            print(\"💡 Try using different keywords\")\n",
    "            continue\n",
    "        \n",
    "        # Use the first book found\n",
    "        selected_book = books_found[0]\n",
    "        print(f\"✅ Book found: {selected_book['title']}\")\n",
    "        print(f\"👤 Author: {selected_book['author']}\")\n",
    "        \n",
    "        print(\"\\n🤖 Generating 5 recommendations...\")\n",
    "        \n",
    "        # Generate recommendations\n",
    "        recommendations = recommend_books([selected_book['isbn']], n_recommendations=5)\n",
    "        \n",
    "        # Display recommendations with complete titles\n",
    "        print(f\"\\n📚 RECOMMENDATIONS FOR: {selected_book['title']}\")\n",
    "        print(f\"👤 Author: {selected_book['author']}\")\n",
    "        print(\"=\"*80)\n",
    "        \n",
    "        if recommendations:\n",
    "            for i, rec in enumerate(recommendations, 1):\n",
    "                print(f\"{i}. 📖 {rec['title']}\")\n",
    "                print(f\"   👤 {rec['author']}\")\n",
    "                print(f\"   📊 Score: {rec['score']:.2f}\\n\")\n",
    "        else:\n",
    "            print(\"❌ No recommendations found\")\n",
    "        \n",
    "        print(f\"✅ Total recommendations: {len(recommendations)}\")\n",
    "        print(\"=\"*80)\n",
    "\n",
    "# 🚀 START INTERACTIVE SYSTEM\n",
    "print(\"🚀 To use the interactive system, run: interactive_system()\")\n",
    "print(\"💡 Or run the cell below to start automatically\")"
   ]
  },
  {
   "cell_type": "markdown",
   "id": "8f2c1ae7",
   "metadata": {},
   "source": [
    "# 8.0 - Interactive System Execution"
   ]
  },
  {
   "cell_type": "code",
   "execution_count": 59,
   "id": "8fe843a3",
   "metadata": {},
   "outputs": [
    {
     "name": "stdout",
     "output_type": "stream",
     "text": [
      "🚀 System configured successfully!\n",
      "💡 To start the interactive system, run: interactive_system()\n",
      "💡 For simplified version, run: interactive_system_simple()\n"
     ]
    }
   ],
   "source": [
    "def interactive_system():\n",
    "    \"\"\"Interactive system for book recommendation\"\"\"\n",
    "    print(\"🎯 Book Recommendation System - Ready to use!\")\n",
    "    print(\"=\" * 50)\n",
    "    \n",
    "    while True:\n",
    "        print(\"\\n📖 Enter the name of the book you liked:\")\n",
    "        print(\"   (or 'exit' to quit)\")\n",
    "        \n",
    "        book_name = input(\"➤ \").strip()\n",
    "        \n",
    "        if book_name.lower() in ['exit', 'quit', 'sair', '']:\n",
    "            print(\"👋 Thank you for using the system! See you later!\")\n",
    "            break\n",
    "        \n",
    "        print(f\"\\n🔍 Searching for recommendations for: '{book_name}'\")\n",
    "        print(\"-\" * 40)\n",
    "        \n",
    "        # Search and recommend (this function already calls display_recommendations internally)\n",
    "        recommendations = search_and_recommend(book_name, n_recommendations=5)\n",
    "        \n",
    "        if not recommendations:\n",
    "            print(f\"❌ We couldn't find the book '{book_name}' in our database.\")\n",
    "            print(\"💡 Try another name or check the spelling.\")\n",
    "        \n",
    "        print(\"\\n\" + \"=\"*50)\n",
    "\n",
    "# 🚀 START INTERACTIVE SYSTEM\n",
    "print(\"🚀 System configured successfully!\")\n",
    "print(\"💡 To start the interactive system, run: interactive_system()\")\n",
    "print(\"💡 For simplified version, run: interactive_system_simple()\")"
   ]
  },
  {
   "cell_type": "code",
   "execution_count": 60,
   "id": "d7549922",
   "metadata": {},
   "outputs": [
    {
     "name": "stdout",
     "output_type": "stream",
     "text": [
      "🎯 Book Recommendation System - Ready to use!\n",
      "==================================================\n",
      "\n",
      "📖 Enter the name of the book you liked:\n",
      "   (or 'exit' to quit)\n",
      "\n",
      "🔍 Searching for recommendations for: 'the alchemist'\n",
      "----------------------------------------\n",
      "🔍 Searching for 'the alchemist'...\n",
      "✅ Found: The Alchemist: A Fable About Following Your Dream\n",
      "\n",
      "📚 RECOMMENDATIONS FOR: The Alchemist: A Fable About Following Your Dream\n",
      "👤 Author: Paulo Coelho\n",
      "============================================================\n",
      "1. The Alchemist: A Fable About Following Your Dream...\n",
      "   👤 Paulo Coelho...\n",
      "   📊 Score: 27.50\n",
      "\n",
      "2. Veronika Decides to Die...\n",
      "   👤 Paulo Coelho...\n",
      "   📊 Score: 7.50\n",
      "\n",
      "3. Der Alchimist....\n",
      "   👤 Paulo Coelho...\n",
      "   📊 Score: 4.00\n",
      "\n",
      "4. Veronika Decides to Die...\n",
      "   👤 Paulo Coelho...\n",
      "   📊 Score: 4.00\n",
      "\n",
      "5. L'Alchimiste...\n",
      "   👤 Paulo Coelho...\n",
      "   📊 Score: 3.00\n",
      "\n",
      "\n",
      "==================================================\n",
      "\n",
      "📖 Enter the name of the book you liked:\n",
      "   (or 'exit' to quit)\n",
      "\n",
      "🔍 Searching for recommendations for: 'the alchemist'\n",
      "----------------------------------------\n",
      "🔍 Searching for 'the alchemist'...\n",
      "✅ Found: The Alchemist: A Fable About Following Your Dream\n",
      "\n",
      "📚 RECOMMENDATIONS FOR: The Alchemist: A Fable About Following Your Dream\n",
      "👤 Author: Paulo Coelho\n",
      "============================================================\n",
      "1. The Alchemist: A Fable About Following Your Dream...\n",
      "   👤 Paulo Coelho...\n",
      "   📊 Score: 27.50\n",
      "\n",
      "2. Veronika Decides to Die...\n",
      "   👤 Paulo Coelho...\n",
      "   📊 Score: 7.50\n",
      "\n",
      "3. Der Alchimist....\n",
      "   👤 Paulo Coelho...\n",
      "   📊 Score: 4.00\n",
      "\n",
      "4. Veronika Decides to Die...\n",
      "   👤 Paulo Coelho...\n",
      "   📊 Score: 4.00\n",
      "\n",
      "5. L'Alchimiste...\n",
      "   👤 Paulo Coelho...\n",
      "   📊 Score: 3.00\n",
      "\n",
      "\n",
      "==================================================\n",
      "\n",
      "📖 Enter the name of the book you liked:\n",
      "   (or 'exit' to quit)\n",
      "👋 Thank you for using the system! See you later!\n",
      "👋 Thank you for using the system! See you later!\n"
     ]
    }
   ],
   "source": [
    "interactive_system()"
   ]
  }
 ],
 "metadata": {
  "kernelspec": {
   "display_name": "venv",
   "language": "python",
   "name": "python3"
  },
  "language_info": {
   "codemirror_mode": {
    "name": "ipython",
    "version": 3
   },
   "file_extension": ".py",
   "mimetype": "text/x-python",
   "name": "python",
   "nbconvert_exporter": "python",
   "pygments_lexer": "ipython3",
   "version": "3.7.9"
  }
 },
 "nbformat": 4,
 "nbformat_minor": 5
}
